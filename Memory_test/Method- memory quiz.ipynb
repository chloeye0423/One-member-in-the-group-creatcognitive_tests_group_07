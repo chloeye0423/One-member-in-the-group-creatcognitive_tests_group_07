{
 "cells": [
  {
   "cell_type": "code",
   "execution_count": 2,
   "id": "3545fe9b-3a74-4ad4-9735-881af51891ef",
   "metadata": {},
   "outputs": [
    {
     "name": "stdout",
     "output_type": "stream",
     "text": [
      "The memory test involved being timed for 10 seconds to remember 9 different shapes in 9 different colours arranged into a 3x3 grid. Then the grid vanishes and participants are asked questions to test their memory on the shapes displayed. To display the grid, ‘from PIL import Image’ and ‘from IPython.display, import display’  were the lines of codes used. ‘From IPython, clear_output’ was also coded in order to improve the structure of the game, by removing previous demographic questions (e.g. age and gender) to make the display of the quiz clearer for participants. The line of code ‘import time’ was used to allow for the image to only be displayed for 10 seconds. In order to link the data to my google forms, and thus search for HTML content, the line of code ‘from bs4 import BeautifulSoup’ was used. The score from the quiz was calculated by every correct answer on the quiz being awarded 1 mark, and there was no negative scoring for incorrect answers. The score was included in the data dictionary alongside the demographic information collected- name, age and gender as well the participants' unique ID that allows for anonymity when analysing data. This information collected through the data dictionary was uploaded onto the google forms link and was used to calculate a percentage score per participant, before the data was analysed.\n"
     ]
    }
   ],
   "source": [
    "print(\"The memory test involved being timed for 10 seconds to remember 9 different shapes in 9 different colours arranged into a 3x3 grid. Then the grid vanishes and participants are asked questions to test their memory on the shapes displayed. To display the grid, ‘from PIL import Image’ and ‘from IPython.display, import display’  were the lines of codes used. ‘From IPython, clear_output’ was also coded in order to improve the structure of the game, by removing previous demographic questions (e.g. age and gender) to make the display of the quiz clearer for participants. The line of code ‘import time’ was used to allow for the image to only be displayed for 10 seconds. In order to link the data to my google forms, and thus search for HTML content, the line of code ‘from bs4 import BeautifulSoup’ was used. The score from the quiz was calculated by every correct answer on the quiz being awarded 1 mark, and there was no negative scoring for incorrect answers. The score was included in the data dictionary alongside the demographic information collected- name, age and gender as well the participants' unique ID that allows for anonymity when analysing data. This information collected through the data dictionary was uploaded onto the google forms link and was used to calculate a percentage score per participant, before the data was analysed.\")"
   ]
  },
  {
   "cell_type": "code",
   "execution_count": null,
   "id": "4e69715d-717b-4328-be55-4ca6fe7a7e86",
   "metadata": {},
   "outputs": [],
   "source": []
  }
 ],
 "metadata": {
  "kernelspec": {
   "display_name": "Python 3 (ipykernel)",
   "language": "python",
   "name": "python3"
  },
  "language_info": {
   "codemirror_mode": {
    "name": "ipython",
    "version": 3
   },
   "file_extension": ".py",
   "mimetype": "text/x-python",
   "name": "python",
   "nbconvert_exporter": "python",
   "pygments_lexer": "ipython3",
   "version": "3.8.17"
  }
 },
 "nbformat": 4,
 "nbformat_minor": 5
}
