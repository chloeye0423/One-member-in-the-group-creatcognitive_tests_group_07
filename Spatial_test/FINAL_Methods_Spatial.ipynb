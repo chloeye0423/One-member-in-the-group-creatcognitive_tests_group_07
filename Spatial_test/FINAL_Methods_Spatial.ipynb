{
 "cells": [
  {
   "cell_type": "code",
   "execution_count": 6,
   "id": "93803272-fcc9-40c4-bd8b-0d47863ad10b",
   "metadata": {},
   "outputs": [
    {
     "name": "stdout",
     "output_type": "stream",
     "text": [
      "The Spatial Reasoning Task was generated to run in an interactive tkinter window, with 10 questions provided. For each question, the user was provided with a main reference image consisting of a 3D arrangement of cubes, and then the user was asked to select the correct button containing the 2D view option from a – d, depending on the question asked.Each question asked about how the 3D reference arrangement would look like from a particular point of view. The users were scored based on what they had answered, as well as how many trials for each question they took. For every right answer, 1 point is added to the user’s score, whilst every incorrect answer resulted in a -0.25 penalty. The total score was calculated out of 10 and then converted to a percentage at the end of the quiz during data collection.In addition to the score being recorded, an anonymous user ID, gender, and the time each question took was recorded for data processing and analysis.\n"
     ]
    }
   ],
   "source": [
    "print(\"The Spatial Reasoning Task was generated to run in an interactive tkinter window, with 10 questions provided.\",\n",
    "      \"For each question, the user was provided with a main reference image consisting of a 3D arrangement of cubes,\",\n",
    "      \"and then the user was asked to select the correct button containing the 2D view option from a – d, depending on the question asked.\" \n",
    "      \"Each question asked about how the 3D reference arrangement would look like from a particular point of view.\",\n",
    "      \"The users were scored based on what they had answered, as well as how many trials for each question they took.\",\n",
    "      \"For every right answer, 1 point is added to the user’s score, whilst every incorrect answer resulted in a -0.25 penalty.\",\n",
    "      \"The total score was calculated out of 10 and then converted to a percentage at the end of the quiz during data collection.\"\n",
    "      \"In addition to the score being recorded, an anonymous user ID, gender, and the time each question took was recorded \"\n",
    "      \"for data processing and analysis.\")"
   ]
  },
  {
   "cell_type": "code",
   "execution_count": null,
   "id": "9134f3d7-2e15-43b5-af51-0cc51178ba43",
   "metadata": {},
   "outputs": [],
   "source": []
  }
 ],
 "metadata": {
  "kernelspec": {
   "display_name": "Python 3 (ipykernel)",
   "language": "python",
   "name": "python3"
  },
  "language_info": {
   "codemirror_mode": {
    "name": "ipython",
    "version": 3
   },
   "file_extension": ".py",
   "mimetype": "text/x-python",
   "name": "python",
   "nbconvert_exporter": "python",
   "pygments_lexer": "ipython3",
   "version": "3.10.10"
  }
 },
 "nbformat": 4,
 "nbformat_minor": 5
}
