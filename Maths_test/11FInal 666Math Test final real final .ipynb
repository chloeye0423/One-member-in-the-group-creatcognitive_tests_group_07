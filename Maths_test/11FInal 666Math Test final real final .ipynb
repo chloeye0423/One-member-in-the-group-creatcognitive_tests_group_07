{
 "cells": [
  {
   "cell_type": "code",
   "execution_count": 9,
   "id": "dfe4d0b7-c133-4e39-8074-3a59fc1c7b30",
   "metadata": {},
   "outputs": [
    {
     "name": "stdout",
     "output_type": "stream",
     "text": [
      "DATA CONSENT INFORMATION:\n",
      "\n",
      "Please read:\n",
      "\n",
      "we wish to record your response data\n",
      "\n",
      "to an anonymised public data repository.\n",
      "\n",
      "Your data will be used for educational teaching purposes\n",
      "\n",
      "practising data analysis and visualisation.\n",
      "\n",
      "Please type yes in the box below if you consent to the upload.\n"
     ]
    },
    {
     "name": "stdin",
     "output_type": "stream",
     "text": [
      ">  yes\n"
     ]
    },
    {
     "name": "stdout",
     "output_type": "stream",
     "text": [
      "Thanks for your participation.\n",
      "Please contact philip.lewis@ucl.ac.uk\n",
      "If you have any questions or concerns\n",
      "regarding the stored results.\n",
      "\n",
      "\n",
      "Enter your anonymised ID\n",
      "\n",
      "To generate an anonymous 4-letter unique user identifier please enter:\n",
      "\n",
      "- two letters based on the initials (first and last name) of a childhood friend\n",
      "\n",
      "- two letters based on the initials (first and last name) of a favourite actor / actress\n",
      "\n",
      "e.g. if your friend was called Charlie Brown and film star was Tom Cruise\n",
      "\n",
      "then your unique identifer would be CBTC\n",
      "\n",
      "\n"
     ]
    },
    {
     "name": "stdin",
     "output_type": "stream",
     "text": [
      ">  hbxhjgs\n"
     ]
    },
    {
     "name": "stdout",
     "output_type": "stream",
     "text": [
      "User entered id: hbxhjgs\n",
      "Please enter your name:\n"
     ]
    },
    {
     "name": "stdin",
     "output_type": "stream",
     "text": [
      ">  hxshs\n"
     ]
    },
    {
     "name": "stdout",
     "output_type": "stream",
     "text": [
      "Please enter your age:\n"
     ]
    },
    {
     "name": "stdin",
     "output_type": "stream",
     "text": [
      ">  22\n"
     ]
    },
    {
     "name": "stdout",
     "output_type": "stream",
     "text": [
      "Please enter your gender(F/M):\n"
     ]
    },
    {
     "name": "stdin",
     "output_type": "stream",
     "text": [
      ">  m\n"
     ]
    },
    {
     "data": {
      "text/html": [
       "<span style='font-size:27px'> Let's start! </span>"
      ],
      "text/plain": [
       "<IPython.core.display.HTML object>"
      ]
     },
     "metadata": {},
     "output_type": "display_data"
    },
    {
     "name": "stdout",
     "output_type": "stream",
     "text": [
      "\n",
      "Q1:\n",
      "\n"
     ]
    },
    {
     "name": "stdin",
     "output_type": "stream",
     "text": [
      "Enter answer: 11\n"
     ]
    },
    {
     "name": "stdout",
     "output_type": "stream",
     "text": [
      "[1.8177766799926758]\n",
      "Well done!\n",
      "Time taken: 1.82 s\n",
      "\n",
      "Q2:\n",
      "\n"
     ]
    },
    {
     "name": "stdin",
     "output_type": "stream",
     "text": [
      "Enter answer: 22\n"
     ]
    },
    {
     "name": "stdout",
     "output_type": "stream",
     "text": [
      "[1.8177766799926758, 4.129323244094849]\n",
      "Right answer is:3\n",
      "Time taken: 4.13 s\n",
      "\n",
      "Q3:\n",
      "\n"
     ]
    },
    {
     "name": "stdin",
     "output_type": "stream",
     "text": [
      "Enter answer: 3\n"
     ]
    },
    {
     "name": "stdout",
     "output_type": "stream",
     "text": [
      "[1.8177766799926758, 4.129323244094849, 2.793752670288086]\n",
      "Right answer is:49\n",
      "Time taken: 2.79 s\n",
      "\n",
      "Q4:\n",
      "\n"
     ]
    },
    {
     "name": "stdin",
     "output_type": "stream",
     "text": [
      "Enter answer: 9\n"
     ]
    },
    {
     "name": "stdout",
     "output_type": "stream",
     "text": [
      "[1.8177766799926758, 4.129323244094849, 2.793752670288086, 1.446244239807129]\n",
      "Well done!\n",
      "Time taken: 1.45 s\n",
      "\n",
      "Q5:\n",
      "\n"
     ]
    },
    {
     "name": "stdin",
     "output_type": "stream",
     "text": [
      "Enter answer: 9\n"
     ]
    },
    {
     "name": "stdout",
     "output_type": "stream",
     "text": [
      "[1.8177766799926758, 4.129323244094849, 2.793752670288086, 1.446244239807129, 5.223584175109863]\n",
      "Right answer is:7\n",
      "Time taken: 5.22 s\n",
      "\n",
      "Q6:\n",
      "\n"
     ]
    },
    {
     "name": "stdin",
     "output_type": "stream",
     "text": [
      "Enter answer: 56\n"
     ]
    },
    {
     "name": "stdout",
     "output_type": "stream",
     "text": [
      "[1.8177766799926758, 4.129323244094849, 2.793752670288086, 1.446244239807129, 5.223584175109863, 4.333797454833984]\n",
      "Right answer is:15\n",
      "Time taken: 4.33 s\n",
      "\n",
      "Q7:\n",
      "        \r"
     ]
    },
    {
     "name": "stdin",
     "output_type": "stream",
     "text": [
      "Enter answer: 2\n"
     ]
    },
    {
     "name": "stdout",
     "output_type": "stream",
     "text": [
      "Right answer is:113\n",
      "Time taken: 32.01 s\n",
      "\n",
      "Q8:\n",
      "        \r"
     ]
    },
    {
     "name": "stdin",
     "output_type": "stream",
     "text": [
      "Enter answer: 7\n"
     ]
    },
    {
     "name": "stdout",
     "output_type": "stream",
     "text": [
      "Right answer is:50\n",
      "Time taken: 42.59 s\n",
      "\n",
      "Q9:\n",
      "        \r"
     ]
    },
    {
     "name": "stdin",
     "output_type": "stream",
     "text": [
      "Enter answer: 9\n"
     ]
    },
    {
     "name": "stdout",
     "output_type": "stream",
     "text": [
      "Right answer is:123\n",
      "Time taken: 26.89 s\n",
      "===============\n",
      "time over:177.29109048843384\n",
      "\n",
      "// means divide the question to an integer. Example:10//3=3\n",
      "\n",
      "\n",
      "Your score is: 2 out of 8 (25.0 )\n",
      "You did 8  questions\n",
      "Your average time taken is: 11.792608559131622\n",
      "\n",
      "Content of the script tag:\n",
      "[[1016605441, 'User ID', None, 0, [[1158304472, None, 0]], None, None, None, None, None, None, [None, 'User ID']], [977456940, 'Name', None, 0, [[533096105, None, 0]], None, None, None, None, None, None, [None, 'Name']], [285264128, 'Age', None, 0, [[562265535, None, 0]], None, None, None, None, None, None, [None, 'Age']], [2104953055, 'Gender', None, 0, [[1076094704, None, 0]], None, None, None, None, None, None, [None, 'Gender']], [319614847, 'Score', None, 0, [[575072526, None, 0]], None, None, None, None, None, None, [None, 'Score']], [796463761, 'Questions done', None, 0, [[1484398240, None, 0]], None, None, None, None, None, None, [None, 'Questions done']], [1173655800, 'Score in percentage', None, 0, [[1828549650, None, 0]], None, None, None, None, None, None, [None, 'Score in percentage<br>']], [550237005, 'Average time(Total)', None, 0, [[774897266, None, 0]], None, None, None, None, None, None, [None, 'Average time(Total)']], [544736705, 'Average time(Set1,Set2,Set3)', None, 0, [[1769303592, None, 0]], None, None, None, None, None, None, [None, 'Average time(Set1,Set2,Set3)<br>']], [1742978133, 'Score(Set1,Set2,Set3)', None, 0, [[540999642, None, 0]], None, None, None, None, None, None, [None, 'Score(Set1,Set2,Set3)<br>']]]\n",
      "Data uploaded successfully!\n"
     ]
    }
   ],
   "source": [
    "# After looking at README.md\n",
    "# print(\"Please read:\")\n",
    "data_consent_info = \"\"\"DATA CONSENT INFORMATION:\n",
    "\n",
    "Please read:\n",
    "\n",
    "we wish to record your response data\n",
    "\n",
    "to an anonymised public data repository.\n",
    "\n",
    "Your data will be used for educational teaching purposes\n",
    "\n",
    "practising data analysis and visualisation.\n",
    "\n",
    "Please type yes in the box below if you consent to the upload.\"\"\"\n",
    "\n",
    "print(data_consent_info)\n",
    "\n",
    "result = input(\"> \")\n",
    "\n",
    "if result == \"yes\":\n",
    "    print(\"Thanks for your participation.\")\n",
    "    print(\"Please contact philip.lewis@ucl.ac.uk\")\n",
    "    print(\"If you have any questions or concerns\")\n",
    "    print(\"regarding the stored results.\")\n",
    "\n",
    "else:\n",
    "\n",
    "# end code execution by raising an exception\n",
    "\n",
    "    raise(Exception(\"User did not consent to continue test.\"))\n",
    "\n",
    "\n",
    "id_instructions = \"\"\"\n",
    "\n",
    "Enter your anonymised ID\n",
    "\n",
    "To generate an anonymous 4-letter unique user identifier please enter:\n",
    "\n",
    "- two letters based on the initials (first and last name) of a childhood friend\n",
    "\n",
    "- two letters based on the initials (first and last name) of a favourite actor / actress\n",
    "\n",
    "e.g. if your friend was called Charlie Brown and film star was Tom Cruise\n",
    "\n",
    "then your unique identifer would be CBTC\n",
    "\n",
    "\"\"\"\n",
    "\n",
    "print(id_instructions)\n",
    "\n",
    "user_id = input(\"> \")\n",
    "\n",
    "print(\"User entered id:\", user_id)\n",
    "\n",
    "\n",
    "# import requests\n",
    "from bs4 import BeautifulSoup\n",
    "import json\n",
    "import time\n",
    "import random\n",
    "random.seed(1)\n",
    "import requests\n",
    "from IPython.display import HTML\n",
    "\n",
    "\n",
    "#send to google form\n",
    "def send_to_google_form(data_dict, form_url):\n",
    "    ''' Helper function to upload information to a corresponding Google Form \n",
    "        You are not expected to follow the code within this function!\n",
    "    '''\n",
    "    form_id = form_url[34:90]\n",
    "    view_form_url = f'https://docs.google.com/forms/d/e/{form_id}/viewform'\n",
    "    post_form_url = f'https://docs.google.com/forms/d/e/{form_id}/formResponse'\n",
    "\n",
    "    page = requests.get(view_form_url)\n",
    "    content = BeautifulSoup(page.content, \"html.parser\").find('script', type='text/javascript')\n",
    "\n",
    "    if content is None:\n",
    "        print(\"Script tag not found. Data not uploaded.\")\n",
    "        return False\n",
    "\n",
    "    content_text = content.text[27:-1] if content.text else None\n",
    "\n",
    "    if not content_text:\n",
    "        print(\"Content text not found. Data not uploaded.\")\n",
    "        return False\n",
    "\n",
    "    try:\n",
    "        result = json.loads(content_text)[1][1]\n",
    "        print(\"Content of the script tag:\")\n",
    "        print(result)\n",
    "        form_dict = {}\n",
    "    \n",
    "        loaded_all = True\n",
    "        for item in result:\n",
    "            # Remove non-alphanumeric characters from the item name\n",
    "            item_name_cleaned = ''.join(char.lower() for char in item[1] if char.isalnum())\n",
    "            \n",
    "            # Check if the cleaned item name matches any key in the data dictionary\n",
    "            matching_keys = [key for key in data_dict.keys() if item_name_cleaned in ''.join(char.lower() for char in key if char.isalnum())]\n",
    "            \n",
    "            if not matching_keys:\n",
    "                print(f\"Form item {item[1]} not found. Data not uploaded.\")\n",
    "                loaded_all = False\n",
    "                return False\n",
    "            \n",
    "            # Use the first matching key as the data dictionary key\n",
    "            form_dict[f'entry.{item[4][0][0]}'] = data_dict[matching_keys[0]]\n",
    "        \n",
    "        post_result = requests.post(post_form_url, data=form_dict)\n",
    "        return post_result.ok\n",
    "    \n",
    "    except (json.JSONDecodeError, IndexError) as e:\n",
    "        print(f\"Error decoding JSON or accessing result: {e}\")\n",
    "        return False\n",
    "            \n",
    "#Start test\n",
    "\n",
    "print(\"Please enter your name:\")\n",
    "ans1 = input(\"> \")\n",
    "\n",
    "print(\"Please enter your age:\")\n",
    "ans2 = input(\"> \")\n",
    "\n",
    "print(\"Please enter your gender(F/M):\")\n",
    "ans3 = input(\"> \")\n",
    "\n",
    "results = []\n",
    "\n",
    "form_url = \"https://docs.google.com/forms/d/e/1FAIpQLSdf9qy1cbjPrDOAlql0cuukbR6PCIBi8_VNNUkeWnkcDZPnJg/viewform?usp=sf_link\"\n",
    "\n",
    "# Own coding\n",
    "# Math test\n",
    "\n",
    "msg = HTML(\"<span style='font-size:27px'> Let's start! </span>\")\n",
    "display (msg)\n",
    "time.sleep(3)\n",
    "\n",
    "#data\n",
    "begin_time1=time.time()\n",
    "score=0\n",
    "time_list=[]\n",
    "TF_list=[]\n",
    "\n",
    "\n",
    "#Set1\n",
    "stage1=6\n",
    "\n",
    "for i in range(stage1):\n",
    "    print()\n",
    "    print(\"Q%d:\"%(i+1))\n",
    "    print()\n",
    "    nums=list(\"0123456789\")\n",
    "    cha=list(\"+-x\")\n",
    "        \n",
    "       \n",
    "    num1=random.choice(nums)\n",
    "    num2=random.choice(nums)\n",
    "    chs= random.choice(cha)\n",
    "        \n",
    "        \n",
    "    result=str(eval(str(num1)+chs.replace(\"x\",\"*\")+str(num2)))\n",
    "        \n",
    "    print(num1,end=\"\")\n",
    "    time.sleep(2)\n",
    "    print(\"\\b\",end=\"\")\n",
    "    print(chs,end=\"\")\n",
    "    time.sleep(2)\n",
    "    print(\"\\b\",end=\"\")\n",
    "    print(num2,end=\"\")\n",
    "    time.sleep(2)\n",
    "    print(\"\\b\",end=\"\")\n",
    "        \n",
    "    start_time = time.time()\n",
    "    answer=input(\"Enter answer:\")\n",
    "    end_time=time.time()\n",
    "    time_taken = end_time - start_time\n",
    "    time_list.append(time_taken)\n",
    "\n",
    "    \n",
    "    now_time1=time.time()\n",
    "    total_time=now_time1-begin_time1\n",
    "    if total_time<=150:    \n",
    "        if answer==result:\n",
    "            print(\"Well done!\")\n",
    "            time.sleep(1)\n",
    "            score=+1\n",
    "            TF_list.append(True)\n",
    "        else:\n",
    "            print(\"Right answer is:\" + str(result))\n",
    "            TF_list.append(False)\n",
    "        \n",
    "        print(\"Time taken: %s s\"%str(round(time_taken,2))) \n",
    "        \n",
    "    else:\n",
    "        print(\"=\"*15)\n",
    "        print(\"time over:\"+ str(total_time))\n",
    "        time_list.pop()\n",
    "        break\n",
    "\n",
    "score_set1=sum(TF_list)\n",
    "time_set1=sum(time_list)\n",
    "question_done1=len(TF_list)\n",
    "Average_time_set1=time_set1/question_done1\n",
    "\n",
    "\n",
    "#Set2\n",
    "stage2=6\n",
    "for i in range(stage2):\n",
    "    if total_time<=150:\n",
    "    \n",
    "        print()\n",
    "        print(\"Q%d:\"%(i+1+stage1))\n",
    "        nums=list(\"0123456789\")\n",
    "        chs2=list(\"+-\")\n",
    "        \n",
    "        \n",
    "        num3=str(int(random.choice(nums)+random.choice(nums)))\n",
    "        num4=str(int(random.choice(nums)+random.choice(nums)))\n",
    "        \n",
    "        ch2= random.choice(chs2)\n",
    "        \n",
    "        \n",
    "        result=str(eval(str(num3)+ ch2 +str(num4)))\n",
    "       \n",
    "        print(num3,end=\"\")\n",
    "        time.sleep(2)\n",
    "        print(\"\\r\"+\"        \"+\"\\r\",end=\"\")\n",
    "        print(ch2,end=\"\")\n",
    "        time.sleep(2)\n",
    "        print(\"\\r\"+\"        \"+\"\\r\",end=\"\")\n",
    "        print(num4,end=\"\")\n",
    "        time.sleep(2)\n",
    "        print(\"\\r\"+\"        \"+\"\\r\",end=\"\")\n",
    "        \n",
    "        start_time = time.time()\n",
    "        answer=input(\"Enter answer:\")\n",
    "        end_time=time.time()\n",
    "        time_taken = end_time - start_time\n",
    "        time_list.append(time_taken)\n",
    "        \n",
    "        now_time2=time.time()\n",
    "        total_time=now_time2-begin_time1\n",
    "        if answer==result and total_time<=150 :\n",
    "            print(\"Well done!\")\n",
    "            time.sleep(1)\n",
    "            score=+1\n",
    "            TF_list.append(True)\n",
    "        elif answer==result and total_time>=150:\n",
    "            print(\"Well done!\")\n",
    "            time.sleep(1)\n",
    "            time_list.pop()\n",
    "        elif answer!=result and total_time<=150:\n",
    "            print(\"Right answer is:\" + str(result))\n",
    "            TF_list.append(False)\n",
    "        else:\n",
    "            print(\"Right answer is:\" + str(result))\n",
    "            time_list.pop()\n",
    "            \n",
    "        print(\"Time taken: %s s\"%str(round(time_taken,2)))  \n",
    "    else:\n",
    "        print(\"=\"*15)\n",
    "        print(\"time over:\"+ str(total_time))\n",
    "        break\n",
    "\n",
    "score_set2=sum(TF_list)-score_set1\n",
    "time_set2=sum(time_list)-time_set1\n",
    "\n",
    "if i==0:\n",
    "    question_done2=\"0\"\n",
    "    Average_time_set2=\"0\"\n",
    "else:\n",
    "    question_done2=len(TF_list)-question_done1\n",
    "    Average_time_set2=time_set2/question_done2 \n",
    "\n",
    "\n",
    "#Set3\n",
    "stage3=0\n",
    "print()\n",
    "print(\"// means divide the question to an integer. Example:10//3=3\")\n",
    "print()\n",
    "while(time.time()-begin_time1)<150:\n",
    "    print()\n",
    "    print(\"Q%d:\"%(stage3+1+stage2+stage1))\n",
    "    nums=list(\"23456789\")\n",
    "    chs3=[\"x\",\"//\"]\n",
    "    \n",
    "    \n",
    "    \n",
    "    num5=str(int(random.choice(nums)+random.choice(nums)))\n",
    "    num6=random.choice(nums)\n",
    "    \n",
    "    ch3= random.choice(chs3)\n",
    "    \n",
    "    \n",
    "    result=str(eval(str(num5)+ ch3.replace(\"x\",\"*\") +str(num6)))\n",
    "    \n",
    "    print(num5,end=\"\")\n",
    "    time.sleep(2)\n",
    "    print(\"\\r\"+\"        \"+\"\\r\",end=\"\")\n",
    "    print(ch3,end=\"\")\n",
    "    time.sleep(2)\n",
    "    print(\"\\r\"+\"        \"+\"\\r\",end=\"\")\n",
    "    print(num6,end=\"\")\n",
    "    time.sleep(2)\n",
    "    print(\"\\r\"+\"        \"+\"\\r\",end=\"\")\n",
    "    \n",
    "    start_time = time.time()\n",
    "    answer=input(\"Enter answer:\")\n",
    "    end_time=time.time()\n",
    "    time_taken = end_time - start_time\n",
    "    time_list.append(time_taken)\n",
    "    \n",
    "    now_time3=time.time()\n",
    "    total_time=now_time3-begin_time1\n",
    "    if total_time<=150:\n",
    "        if answer==result:\n",
    "            print(\"Well done!\")\n",
    "            time.sleep(1)\n",
    "            score=+1\n",
    "            TF_list.append(True)\n",
    "        \n",
    "    \n",
    "        else:\n",
    "            print(\"Right answer is:\" + str(result))\n",
    "            TF_list.append(False)\n",
    "        stage3+=1\n",
    "        print(\"Time taken: %s s\"%str(round(time_taken,2))) \n",
    "\n",
    "\n",
    "    else:\n",
    "        print(\"=\"*15)\n",
    "        print(\"Time over:\"+ str(total_time))\n",
    "        time_list.pop()\n",
    "        break\n",
    "        \n",
    "score_set3=sum(TF_list)-score_set1-score_set2\n",
    "time_set3=sum(time_list)-time_set1-time_set2\n",
    "\n",
    "if stage3!=0:\n",
    "    Average_time_set3=time_set3/stage3\n",
    "else:\n",
    "    Average_time_set3=0\n",
    "    \n",
    "\n",
    "#Results collected\n",
    "TF=sum(TF_list)\n",
    "Total_input_time=sum(time_list)\n",
    "Total_questions_answered=int(question_done1)+int(question_done2)+stage3\n",
    "Average_time_total=Total_input_time/Total_questions_answered\n",
    "score=str(TF)\n",
    "Score_in_percentage=int(score)/int(Total_questions_answered)*100\n",
    "\n",
    "#Show results to the candidate\n",
    "print()\n",
    "print(\"Your score is: \"+str(TF),\"out of \"+str(Total_questions_answered),\"(\"+str(Score_in_percentage),\")\")\n",
    "print(\"You did \"+str(Total_questions_answered),\" questions\")\n",
    "print(\"Your average time taken is: \"+str(Average_time_total))\n",
    "print()\n",
    "\n",
    "# Upload the result to the Google Form\n",
    "data_dict={\n",
    "    'User ID':user_id, \n",
    "    'Name': ans1, \n",
    "    'Age': ans2,\n",
    "    'Gender':ans3, \n",
    "    'Score(Total)': score,\n",
    "    'Questions done':Total_questions_answered, \n",
    "    'Score in percentage':Score_in_percentage,\n",
    "    'Average time(Total)': Average_time_total,\n",
    "    'Average time(Set1,Set2,Set3)':[Average_time_set1,Average_time_set2,Average_time_set3],\n",
    "    'Score(Set1,Set2,Set3)':[score_set1,score_set2,score_set3]}\n",
    "\n",
    "upload_success = send_to_google_form(data_dict, form_url)\n",
    "\n",
    "# Print the result\n",
    "if upload_success:\n",
    "    print(\"Data uploaded successfully!\")\n",
    "else:\n",
    "    print(\"Data upload failed.\")"
   ]
  }
 ],
 "metadata": {
  "kernelspec": {
   "display_name": "Python 3 (ipykernel)",
   "language": "python",
   "name": "python3"
  },
  "language_info": {
   "codemirror_mode": {
    "name": "ipython",
    "version": 3
   },
   "file_extension": ".py",
   "mimetype": "text/x-python",
   "name": "python",
   "nbconvert_exporter": "python",
   "pygments_lexer": "ipython3",
   "version": "3.10.10"
  }
 },
 "nbformat": 4,
 "nbformat_minor": 5
}
