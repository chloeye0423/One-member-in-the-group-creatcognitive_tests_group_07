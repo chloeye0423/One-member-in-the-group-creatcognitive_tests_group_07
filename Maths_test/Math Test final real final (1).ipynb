{
 "cells": [
  {
   "cell_type": "code",
   "execution_count": 1,
   "id": "cd86f49d-506f-4b1a-8154-a4ec621ad586",
   "metadata": {},
   "outputs": [
    {
     "name": "stdout",
     "output_type": "stream",
     "text": [
      "DATA CONSENT INFORMATION:\n",
      "\n",
      "Please read:\n",
      "\n",
      "we wish to record your response data\n",
      "\n",
      "to an anonymised public data repository.\n",
      "\n",
      "Your data will be used for educational teaching purposes\n",
      "\n",
      "practising data analysis and visualisation.\n",
      "\n",
      "Please type yes in the box below if you consent to the upload.\n"
     ]
    },
    {
     "name": "stdin",
     "output_type": "stream",
     "text": [
      ">  yes\n"
     ]
    },
    {
     "name": "stdout",
     "output_type": "stream",
     "text": [
      "Thanks for your participation.\n",
      "Please contact philip.lewis@ucl.ac.uk\n",
      "If you have any questions or concerns\n",
      "regarding the stored results.\n",
      "\n",
      "\n",
      "Enter your anonymised ID\n",
      "\n",
      "To generate an anonymous 4-letter unique user identifier please enter:\n",
      "\n",
      "- two letters based on the initials (first and last name) of a childhood friend\n",
      "\n",
      "- two letters based on the initials (first and last name) of a favourite actor / actress\n",
      "\n",
      "e.g. if your friend was called Charlie Brown and film star was Tom Cruise\n",
      "\n",
      "then your unique identifer would be CBTC\n",
      "\n",
      "\n"
     ]
    },
    {
     "name": "stdin",
     "output_type": "stream",
     "text": [
      ">  LHHL\n"
     ]
    },
    {
     "name": "stdout",
     "output_type": "stream",
     "text": [
      "User entered id: LHHL\n",
      "Please enter your name:\n"
     ]
    },
    {
     "name": "stdin",
     "output_type": "stream",
     "text": [
      ">  bill\n"
     ]
    },
    {
     "name": "stdout",
     "output_type": "stream",
     "text": [
      "Please enter your age:\n"
     ]
    },
    {
     "name": "stdin",
     "output_type": "stream",
     "text": [
      ">  20\n"
     ]
    },
    {
     "name": "stdout",
     "output_type": "stream",
     "text": [
      "Please enter your gender(F/M):\n"
     ]
    },
    {
     "name": "stdin",
     "output_type": "stream",
     "text": [
      ">  M\n"
     ]
    },
    {
     "data": {
      "text/html": [
       "<span style='font-size:27px'> Let's start! </span>"
      ],
      "text/plain": [
       "<IPython.core.display.HTML object>"
      ]
     },
     "metadata": {},
     "output_type": "display_data"
    },
    {
     "name": "stdout",
     "output_type": "stream",
     "text": [
      "\n",
      "Q1:\n",
      "\n"
     ]
    },
    {
     "name": "stdin",
     "output_type": "stream",
     "text": [
      "Enter answer: 11\n"
     ]
    },
    {
     "name": "stdout",
     "output_type": "stream",
     "text": [
      "Well done!\n",
      "Time taken: 0.82 s\n",
      "\n",
      "Q2:\n",
      "\n"
     ]
    },
    {
     "name": "stdin",
     "output_type": "stream",
     "text": [
      "Enter answer: 1\n"
     ]
    },
    {
     "name": "stdout",
     "output_type": "stream",
     "text": [
      "Right answer is:3\n",
      "Time taken: 1.49 s\n",
      "\n",
      "Q3:\n",
      "\n"
     ]
    },
    {
     "name": "stdin",
     "output_type": "stream",
     "text": [
      "Enter answer: 14\n"
     ]
    },
    {
     "name": "stdout",
     "output_type": "stream",
     "text": [
      "Right answer is:49\n",
      "Time taken: 2.47 s\n",
      "\n",
      "Q4:\n",
      "\n"
     ]
    },
    {
     "name": "stdin",
     "output_type": "stream",
     "text": [
      "Enter answer: 9\n"
     ]
    },
    {
     "name": "stdout",
     "output_type": "stream",
     "text": [
      "Well done!\n",
      "Time taken: 0.54 s\n",
      "\n",
      "Q5:\n",
      "\n"
     ]
    },
    {
     "name": "stdin",
     "output_type": "stream",
     "text": [
      "Enter answer: 0\n"
     ]
    },
    {
     "name": "stdout",
     "output_type": "stream",
     "text": [
      "Right answer is:7\n",
      "Time taken: 0.92 s\n",
      "\n",
      "Q6:\n",
      "\n"
     ]
    },
    {
     "name": "stdin",
     "output_type": "stream",
     "text": [
      "Enter answer: 15\n"
     ]
    },
    {
     "name": "stdout",
     "output_type": "stream",
     "text": [
      "Well done!\n",
      "Time taken: 0.65 s\n",
      "\n",
      "Q7:\n",
      "        \r"
     ]
    },
    {
     "name": "stdin",
     "output_type": "stream",
     "text": [
      "Enter answer: 113\n"
     ]
    },
    {
     "name": "stdout",
     "output_type": "stream",
     "text": [
      "Well done!\n",
      "Time taken: 1.54 s\n",
      "\n",
      "Q8:\n",
      "        \r"
     ]
    },
    {
     "name": "stdin",
     "output_type": "stream",
     "text": [
      "Enter answer: 50\n"
     ]
    },
    {
     "name": "stdout",
     "output_type": "stream",
     "text": [
      "Well done!\n",
      "Time taken: 1.87 s\n",
      "\n",
      "Q9:\n",
      "        \r"
     ]
    },
    {
     "name": "stdin",
     "output_type": "stream",
     "text": [
      "Enter answer: 123\n"
     ]
    },
    {
     "name": "stdout",
     "output_type": "stream",
     "text": [
      "Well done!\n",
      "Time taken: 1.22 s\n",
      "\n",
      "Q10:\n",
      "        \r"
     ]
    },
    {
     "name": "stdin",
     "output_type": "stream",
     "text": [
      "Enter answer: -6\n"
     ]
    },
    {
     "name": "stdout",
     "output_type": "stream",
     "text": [
      "Well done!\n",
      "Time taken: 3.04 s\n",
      "\n",
      "Q11:\n",
      "        \r"
     ]
    },
    {
     "name": "stdin",
     "output_type": "stream",
     "text": [
      "Enter answer: 107\n"
     ]
    },
    {
     "name": "stdout",
     "output_type": "stream",
     "text": [
      "Well done!\n",
      "Time taken: 2.83 s\n",
      "\n",
      "Q12:\n",
      "        \r"
     ]
    },
    {
     "name": "stdin",
     "output_type": "stream",
     "text": [
      "Enter answer: 56\n"
     ]
    },
    {
     "name": "stdout",
     "output_type": "stream",
     "text": [
      "Well done!\n",
      "Time taken: 1.63 s\n",
      "\n",
      "// means divide the question to an integer. Example:10//3=3\n",
      "\n",
      "\n",
      "Q13:\n",
      "        \r"
     ]
    },
    {
     "name": "stdin",
     "output_type": "stream",
     "text": [
      "Enter answer: 296\n"
     ]
    },
    {
     "name": "stdout",
     "output_type": "stream",
     "text": [
      "Well done!\n",
      "Time taken: 10.77 s\n",
      "\n",
      "Q14:\n",
      "        \r"
     ]
    },
    {
     "name": "stdin",
     "output_type": "stream",
     "text": [
      "Enter answer: 7\n"
     ]
    },
    {
     "name": "stdout",
     "output_type": "stream",
     "text": [
      "Well done!\n",
      "Time taken: 1.62 s\n",
      "\n",
      "Q15:\n",
      "        \r"
     ]
    },
    {
     "name": "stdin",
     "output_type": "stream",
     "text": [
      "Enter answer: 5\n"
     ]
    },
    {
     "name": "stdout",
     "output_type": "stream",
     "text": [
      "Well done!\n",
      "Time taken: 0.67 s\n",
      "\n",
      "Q16:\n",
      "        \r"
     ]
    },
    {
     "name": "stdin",
     "output_type": "stream",
     "text": [
      "Enter answer: 11\n"
     ]
    },
    {
     "name": "stdout",
     "output_type": "stream",
     "text": [
      "Right answer is:12\n",
      "Time taken: 1.9 s\n",
      "\n",
      "Q17:\n",
      "        \r"
     ]
    },
    {
     "name": "stdin",
     "output_type": "stream",
     "text": [
      "Enter answer: 2\n"
     ]
    },
    {
     "name": "stdout",
     "output_type": "stream",
     "text": [
      "===============\n",
      "Time over:152.6313545703888\n",
      "\n",
      "Your score is: 12 out of 17 (70.58823529411765 )\n",
      "You did 17  questions\n",
      "Your average time taken is: 2.218959242105484\n",
      "\n",
      "Content of the script tag:\n",
      "[[1016605441, 'User ID', None, 0, [[1158304472, None, 0]], None, None, None, None, None, None, [None, 'User ID']], [977456940, 'Name', None, 0, [[533096105, None, 0]], None, None, None, None, None, None, [None, 'Name']], [285264128, 'Age', None, 0, [[562265535, None, 0]], None, None, None, None, None, None, [None, 'Age']], [2104953055, 'Gender', None, 0, [[1076094704, None, 0]], None, None, None, None, None, None, [None, 'Gender']], [319614847, 'Score', None, 0, [[575072526, None, 0]], None, None, None, None, None, None, [None, 'Score']], [796463761, 'Questions done', None, 0, [[1484398240, None, 0]], None, None, None, None, None, None, [None, 'Questions done']], [1173655800, 'Score in percentage', None, 0, [[1828549650, None, 0]], None, None, None, None, None, None, [None, 'Score in percentage<br>']], [550237005, 'Average time', None, 0, [[774897266, None, 0]], None, None, None, None, None, None, [None, 'Average time']]]\n",
      "Data uploaded successfully!\n"
     ]
    }
   ],
   "source": [
    "#After looking at README.md\n",
    "# print(\"Please read:\")\n",
    "data_consent_info = \"\"\"DATA CONSENT INFORMATION:\n",
    "\n",
    "Please read:\n",
    "\n",
    "we wish to record your response data\n",
    "\n",
    "to an anonymised public data repository.\n",
    "\n",
    "Your data will be used for educational teaching purposes\n",
    "\n",
    "practising data analysis and visualisation.\n",
    "\n",
    "Please type yes in the box below if you consent to the upload.\"\"\"\n",
    "\n",
    "print(data_consent_info)\n",
    "\n",
    "result = input(\"> \")\n",
    "\n",
    "if result == \"yes\":\n",
    "    print(\"Thanks for your participation.\")\n",
    "    print(\"Please contact philip.lewis@ucl.ac.uk\")\n",
    "    print(\"If you have any questions or concerns\")\n",
    "    print(\"regarding the stored results.\")\n",
    "\n",
    "else:\n",
    "\n",
    "# end code execution by raising an exception\n",
    "\n",
    "    raise(Exception(\"User did not consent to continue test.\"))\n",
    "\n",
    "\n",
    "id_instructions = \"\"\"\n",
    "\n",
    "Enter your anonymised ID\n",
    "\n",
    "To generate an anonymous 4-letter unique user identifier please enter:\n",
    "\n",
    "- two letters based on the initials (first and last name) of a childhood friend\n",
    "\n",
    "- two letters based on the initials (first and last name) of a favourite actor / actress\n",
    "\n",
    "e.g. if your friend was called Charlie Brown and film star was Tom Cruise\n",
    "\n",
    "then your unique identifer would be CBTC\n",
    "\n",
    "\"\"\"\n",
    "\n",
    "print(id_instructions)\n",
    "\n",
    "user_id = input(\"> \")\n",
    "\n",
    "print(\"User entered id:\", user_id)\n",
    "\n",
    "\n",
    "# import requests\n",
    "from bs4 import BeautifulSoup\n",
    "import json\n",
    "import time\n",
    "import random\n",
    "random.seed(1)\n",
    "import requests\n",
    "from IPython.display import HTML\n",
    "\n",
    "\n",
    "def send_to_google_form(data_dict, form_url):\n",
    "    ''' Helper function to upload information to a corresponding Google Form \n",
    "        You are not expected to follow the code within this function!\n",
    "    '''\n",
    "    form_id = form_url[34:90]\n",
    "    view_form_url = f'https://docs.google.com/forms/d/e/{form_id}/viewform'\n",
    "    post_form_url = f'https://docs.google.com/forms/d/e/{form_id}/formResponse'\n",
    "\n",
    "    page = requests.get(view_form_url)\n",
    "    content = BeautifulSoup(page.content, \"html.parser\").find('script', type='text/javascript')\n",
    "\n",
    "    if content is None:\n",
    "        print(\"Script tag not found. Data not uploaded.\")\n",
    "        return False\n",
    "\n",
    "    content_text = content.text[27:-1] if content.text else None\n",
    "\n",
    "    if not content_text:\n",
    "        print(\"Content text not found. Data not uploaded.\")\n",
    "        return False\n",
    "\n",
    "    try:\n",
    "        result = json.loads(content_text)[1][1]\n",
    "        print(\"Content of the script tag:\")\n",
    "        print(result)\n",
    "        form_dict = {}\n",
    "    \n",
    "        loaded_all = True\n",
    "        for item in result:\n",
    "            # Remove non-alphanumeric characters from the item name\n",
    "            item_name_cleaned = ''.join(char.lower() for char in item[1] if char.isalnum())\n",
    "            \n",
    "            # Check if the cleaned item name matches any key in the data dictionary\n",
    "            matching_keys = [key for key in data_dict.keys() if item_name_cleaned in ''.join(char.lower() for char in key if char.isalnum())]\n",
    "            \n",
    "            if not matching_keys:\n",
    "                print(f\"Form item {item[1]} not found. Data not uploaded.\")\n",
    "                loaded_all = False\n",
    "                return False\n",
    "            \n",
    "            # Use the first matching key as the data dictionary key\n",
    "            form_dict[f'entry.{item[4][0][0]}'] = data_dict[matching_keys[0]]\n",
    "        \n",
    "        post_result = requests.post(post_form_url, data=form_dict)\n",
    "        return post_result.ok\n",
    "    \n",
    "    except (json.JSONDecodeError, IndexError) as e:\n",
    "        print(f\"Error decoding JSON or accessing result: {e}\")\n",
    "        return False\n",
    "            \n",
    "#start test\n",
    "\n",
    "print(\"Please enter your name:\")\n",
    "ans1 = input(\"> \")\n",
    "\n",
    "print(\"Please enter your age:\")\n",
    "ans2 = input(\"> \")\n",
    "\n",
    "print(\"Please enter your gender(F/M):\")\n",
    "ans3 = input(\"> \")\n",
    "\n",
    "results = []\n",
    "\n",
    "form_url = \"https://docs.google.com/forms/d/e/1FAIpQLSdf9qy1cbjPrDOAlql0cuukbR6PCIBi8_VNNUkeWnkcDZPnJg/viewform?usp=sf_link\"\n",
    "\n",
    "# own coding\n",
    "# Math test\n",
    "\n",
    "msg = HTML(\"<span style='font-size:27px'> Let's start! </span>\")\n",
    "display (msg)\n",
    "time.sleep(3)\n",
    "\n",
    "#datas\n",
    "begin_time1=time.time()\n",
    "score=0\n",
    "time_list=[]\n",
    "TF_list=[]\n",
    "\n",
    "\n",
    "#Set1\n",
    "stage1=6\n",
    "for i in range(stage1):\n",
    "    print()\n",
    "    print(\"Q%d:\"%(i+1))\n",
    "    print()\n",
    "    nums=list(\"0123456789\")\n",
    "    cha=list(\"+-x\")\n",
    "    \n",
    "   \n",
    "    num1=random.choice(nums)\n",
    "    num2=random.choice(nums)\n",
    "    chs= random.choice(cha)\n",
    "    \n",
    "    \n",
    "    result=str(eval(str(num1)+chs.replace(\"x\",\"*\")+str(num2)))\n",
    "    \n",
    "    print(num1,end=\"\")\n",
    "    time.sleep(2)\n",
    "    print(\"\\b\",end=\"\")\n",
    "    print(chs,end=\"\")\n",
    "    time.sleep(2)\n",
    "    print(\"\\b\",end=\"\")\n",
    "    print(num2,end=\"\")\n",
    "    time.sleep(2)\n",
    "    print(\"\\b\",end=\"\")\n",
    "    \n",
    "    start_time = time.time()\n",
    "    answer=input(\"Enter answer:\")\n",
    "    end_time=time.time()\n",
    "    time_taken = end_time - start_time\n",
    "    time_list.append(time_taken)\n",
    "\n",
    "    now_time1=time.time()\n",
    "    total_time=now_time1-begin_time1\n",
    "    if total_time<=150:    \n",
    "        if answer==result:\n",
    "            print(\"Well done!\")\n",
    "            time.sleep(1)\n",
    "            score=+1\n",
    "            TF_list.append(True)\n",
    "        \n",
    "    \n",
    "        else:\n",
    "            print(\"Right answer is:\" + str(result))\n",
    "            TF_list.append(False)\n",
    "    \n",
    "        print(\"Time taken: %s s\"%str(round(time_taken,2))) \n",
    "    else:\n",
    "        print(\"=\"*15)\n",
    "        print(\"time over:\"+ str(total_time))\n",
    "        break\n",
    "\n",
    "\n",
    "\n",
    "  \n",
    "#Set2\n",
    "stage2=6\n",
    "for i in range(stage2):\n",
    "    print()\n",
    "    print(\"Q%d:\"%(i+1+stage1))\n",
    "    nums=list(\"0123456789\")\n",
    "    chs2=list(\"+-\")\n",
    "    \n",
    "    \n",
    "    num3=str(int(random.choice(nums)+random.choice(nums)))\n",
    "    num4=str(int(random.choice(nums)+random.choice(nums)))\n",
    "    \n",
    "    ch2= random.choice(chs2)\n",
    "    \n",
    "    \n",
    "    result=str(eval(str(num3)+ ch2 +str(num4)))\n",
    "   \n",
    "    print(num3,end=\"\")\n",
    "    time.sleep(2)\n",
    "    print(\"\\r\"+\"        \"+\"\\r\",end=\"\")\n",
    "    print(ch2,end=\"\")\n",
    "    time.sleep(2)\n",
    "    print(\"\\r\"+\"        \"+\"\\r\",end=\"\")\n",
    "    print(num4,end=\"\")\n",
    "    time.sleep(2)\n",
    "    print(\"\\r\"+\"        \"+\"\\r\",end=\"\")\n",
    "    \n",
    "    start_time = time.time()\n",
    "    answer=input(\"Enter answer:\")\n",
    "    end_time=time.time()\n",
    "    time_taken = end_time - start_time\n",
    "    time_list.append(time_taken)\n",
    "    \n",
    "    now_time2=time.time()\n",
    "    total_time=now_time2-begin_time1\n",
    "    if total_time<=150:\n",
    "        if answer==result:\n",
    "            print(\"Well done!\")\n",
    "            time.sleep(1)\n",
    "            score=+1\n",
    "            TF_list.append(True)\n",
    "        \n",
    "    \n",
    "        else:\n",
    "            print(\"Right answer is:\" + str(result))\n",
    "            TF_list.append(False)\n",
    "    \n",
    "        print(\"Time taken: %s s\"%str(round(time_taken,2))) \n",
    "    else:\n",
    "        print(\"=\"*15)\n",
    "        print(\"time over:\"+ str(total_time))\n",
    "        break\n",
    "\n",
    "\n",
    "\n",
    "#Set3\n",
    "stage3=0\n",
    "print()\n",
    "print(\"// means divide the question to an integer. Example:10//3=3\")\n",
    "print()\n",
    "time.sleep(3)\n",
    "while(time.time()-begin_time1)<150:\n",
    "    print()\n",
    "    print(\"Q%d:\"%(stage3+1+stage2+stage1))\n",
    "    nums=list(\"23456789\")\n",
    "    chs3=[\"x\",\"//\"]\n",
    "    \n",
    "    \n",
    "    \n",
    "    num5=str(int(random.choice(nums)+random.choice(nums)))\n",
    "    num6=random.choice(nums)\n",
    "    \n",
    "    ch3= random.choice(chs3)\n",
    "    \n",
    "    \n",
    "    result=str(eval(str(num5)+ ch3.replace(\"x\",\"*\") +str(num6)))\n",
    "    \n",
    "    print(num5,end=\"\")\n",
    "    time.sleep(2)\n",
    "    print(\"\\r\"+\"        \"+\"\\r\",end=\"\")\n",
    "    print(ch3,end=\"\")\n",
    "    time.sleep(2)\n",
    "    print(\"\\r\"+\"        \"+\"\\r\",end=\"\")\n",
    "    print(num6,end=\"\")\n",
    "    time.sleep(2)\n",
    "    print(\"\\r\"+\"        \"+\"\\r\",end=\"\")\n",
    "    \n",
    "    start_time = time.time()\n",
    "    answer=input(\"Enter answer:\")\n",
    "    end_time=time.time()\n",
    "    time_taken = end_time - start_time\n",
    "    time_list.append(time_taken)\n",
    "    \n",
    "    now_time3=time.time()\n",
    "    total_time=now_time3-begin_time1\n",
    "    if total_time<=150:\n",
    "        if answer==result:\n",
    "            print(\"Well done!\")\n",
    "            time.sleep(1)\n",
    "            score=+1\n",
    "            TF_list.append(True)\n",
    "        \n",
    "    \n",
    "        else:\n",
    "            print(\"Right answer is:\" + str(result))\n",
    "            TF_list.append(False)\n",
    "        stage3+=1\n",
    "    \n",
    "        print(\"Time taken: %s s\"%str(round(time_taken,2))) \n",
    "    else:\n",
    "        print(\"=\"*15)\n",
    "        print(\"Time over:\"+ str(total_time))\n",
    "        break\n",
    "        \n",
    "\n",
    "#Results collected\n",
    "TF=sum(TF_list)\n",
    "Total_input_time=sum(time_list)\n",
    "\n",
    "Average_time=Total_input_time/len(TF_list)\n",
    "score=str(TF)\n",
    "Total_questions_answered=stage3+1+stage2+stage1\n",
    "Score_in_percentage=int(score)/int(Total_questions_answered)*100\n",
    "\n",
    "print()\n",
    "print(\"Your score is: \"+str(TF),\"out of \"+str(Total_questions_answered),\"(\"+str(Score_in_percentage),\")\")\n",
    "print(\"You did \"+str(Total_questions_answered),\" questions\")\n",
    "print(\"Your average time taken is: \"+str(Average_time))\n",
    "print()\n",
    "\n",
    "# Upload the result to the Google Form\n",
    "data_dict={\n",
    "    'User ID':user_id, \n",
    "    'Name': ans1, \n",
    "    'Age': ans2,\n",
    "    'Gender':ans3, \n",
    "    'Score': score,\n",
    "    'Questions done':Total_questions_answered, \n",
    "    'Score in percentage':Score_in_percentage,\n",
    "    'Average time': Average_time}\n",
    "\n",
    "upload_success = send_to_google_form(data_dict, form_url)\n",
    "\n",
    "# Print the result\n",
    "if upload_success:\n",
    "    print(\"Data uploaded successfully!\")\n",
    "else:\n",
    "    print(\"Data upload failed.\")"
   ]
  },
  {
   "cell_type": "code",
   "execution_count": null,
   "id": "cf30075e-4749-4af4-bad0-ac050f14cb8f",
   "metadata": {},
   "outputs": [],
   "source": []
  }
 ],
 "metadata": {
  "kernelspec": {
   "display_name": "Python 3 (ipykernel)",
   "language": "python",
   "name": "python3"
  },
  "language_info": {
   "codemirror_mode": {
    "name": "ipython",
    "version": 3
   },
   "file_extension": ".py",
   "mimetype": "text/x-python",
   "name": "python",
   "nbconvert_exporter": "python",
   "pygments_lexer": "ipython3",
   "version": "3.10.10"
  }
 },
 "nbformat": 4,
 "nbformat_minor": 5
}
